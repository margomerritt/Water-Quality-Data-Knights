{
 "cells": [
  {
   "cell_type": "code",
   "execution_count": 1,
   "id": "98879bb3",
   "metadata": {},
   "outputs": [],
   "source": [
    "# import required dependencies\n",
    "import pandas as pd\n",
    "import os"
   ]
  },
  {
   "cell_type": "code",
   "execution_count": 3,
   "id": "1447c303",
   "metadata": {},
   "outputs": [],
   "source": [
    "# create path\n",
    "beach_data = os.path.join('../UCF_group_project/beach_data.csv')\n",
    "beach_df = pd.read_csv(beach_data)"
   ]
  },
  {
   "cell_type": "code",
   "execution_count": 4,
   "id": "cefc0135",
   "metadata": {},
   "outputs": [
    {
     "data": {
      "text/html": [
       "<div>\n",
       "<style scoped>\n",
       "    .dataframe tbody tr th:only-of-type {\n",
       "        vertical-align: middle;\n",
       "    }\n",
       "\n",
       "    .dataframe tbody tr th {\n",
       "        vertical-align: top;\n",
       "    }\n",
       "\n",
       "    .dataframe thead th {\n",
       "        text-align: right;\n",
       "    }\n",
       "</style>\n",
       "<table border=\"1\" class=\"dataframe\">\n",
       "  <thead>\n",
       "    <tr style=\"text-align: right;\">\n",
       "      <th></th>\n",
       "      <th>Sample ID</th>\n",
       "      <th>Sample Date</th>\n",
       "      <th>Beach Name</th>\n",
       "      <th>Sample Location</th>\n",
       "      <th>Enterococci Results</th>\n",
       "      <th>Units or Notes</th>\n",
       "    </tr>\n",
       "  </thead>\n",
       "  <tbody>\n",
       "    <tr>\n",
       "      <th>0</th>\n",
       "      <td>050514CP13</td>\n",
       "      <td>05/05/2014</td>\n",
       "      <td>MIDLAND BEACH</td>\n",
       "      <td>Center</td>\n",
       "      <td>20.0</td>\n",
       "      <td>MPN/100 ml</td>\n",
       "    </tr>\n",
       "    <tr>\n",
       "      <th>1</th>\n",
       "      <td>062011GR04</td>\n",
       "      <td>06/20/2011</td>\n",
       "      <td>MANHATTAN BEACH</td>\n",
       "      <td>Left</td>\n",
       "      <td>NaN</td>\n",
       "      <td>Result below detection limit</td>\n",
       "    </tr>\n",
       "    <tr>\n",
       "      <th>2</th>\n",
       "      <td>072808BH09</td>\n",
       "      <td>07/28/2008</td>\n",
       "      <td>MIDLAND BEACH</td>\n",
       "      <td>Right</td>\n",
       "      <td>28.0</td>\n",
       "      <td>MPN/100 ml</td>\n",
       "    </tr>\n",
       "    <tr>\n",
       "      <th>3</th>\n",
       "      <td>051214CP36</td>\n",
       "      <td>05/12/2014</td>\n",
       "      <td>SOUTH BEACH</td>\n",
       "      <td>Right</td>\n",
       "      <td>4.0</td>\n",
       "      <td>MPN/100 ml</td>\n",
       "    </tr>\n",
       "    <tr>\n",
       "      <th>4</th>\n",
       "      <td>081511KB07</td>\n",
       "      <td>08/15/2011</td>\n",
       "      <td>CEDAR GROVE</td>\n",
       "      <td>Left</td>\n",
       "      <td>360.0</td>\n",
       "      <td>MPN/100 ml</td>\n",
       "    </tr>\n",
       "  </tbody>\n",
       "</table>\n",
       "</div>"
      ],
      "text/plain": [
       "    Sample ID Sample Date       Beach Name Sample Location  \\\n",
       "0  050514CP13  05/05/2014    MIDLAND BEACH          Center   \n",
       "1  062011GR04  06/20/2011  MANHATTAN BEACH            Left   \n",
       "2  072808BH09  07/28/2008    MIDLAND BEACH           Right   \n",
       "3  051214CP36  05/12/2014      SOUTH BEACH           Right   \n",
       "4  081511KB07  08/15/2011      CEDAR GROVE            Left   \n",
       "\n",
       "   Enterococci Results                Units or Notes  \n",
       "0                 20.0                    MPN/100 ml  \n",
       "1                  NaN  Result below detection limit  \n",
       "2                 28.0                    MPN/100 ml  \n",
       "3                  4.0                    MPN/100 ml  \n",
       "4                360.0                    MPN/100 ml  "
      ]
     },
     "execution_count": 4,
     "metadata": {},
     "output_type": "execute_result"
    }
   ],
   "source": [
    "# Display head of dataframe\n",
    "beach_df.head()"
   ]
  },
  {
   "cell_type": "code",
   "execution_count": 6,
   "id": "3866ee26",
   "metadata": {},
   "outputs": [
    {
     "data": {
      "text/html": [
       "<div>\n",
       "<style scoped>\n",
       "    .dataframe tbody tr th:only-of-type {\n",
       "        vertical-align: middle;\n",
       "    }\n",
       "\n",
       "    .dataframe tbody tr th {\n",
       "        vertical-align: top;\n",
       "    }\n",
       "\n",
       "    .dataframe thead th {\n",
       "        text-align: right;\n",
       "    }\n",
       "</style>\n",
       "<table border=\"1\" class=\"dataframe\">\n",
       "  <thead>\n",
       "    <tr style=\"text-align: right;\">\n",
       "      <th></th>\n",
       "      <th>Sample ID</th>\n",
       "      <th>Sample Date</th>\n",
       "      <th>Beach Name</th>\n",
       "      <th>Sample Location</th>\n",
       "      <th>Enterococci Results</th>\n",
       "      <th>Units or Notes</th>\n",
       "    </tr>\n",
       "  </thead>\n",
       "  <tbody>\n",
       "    <tr>\n",
       "      <th>25530</th>\n",
       "      <td>JB2208021005-1.1</td>\n",
       "      <td>08/02/2022</td>\n",
       "      <td>SCHUYLER HILL CIVIC ASSOCIATION</td>\n",
       "      <td>Left</td>\n",
       "      <td>20.0</td>\n",
       "      <td>MPN/100 ml</td>\n",
       "    </tr>\n",
       "    <tr>\n",
       "      <th>25531</th>\n",
       "      <td>JA2209070700-1.3</td>\n",
       "      <td>09/07/2022</td>\n",
       "      <td>DOUGLASTON HOMEOWNERS ASSOCIATION</td>\n",
       "      <td>Right</td>\n",
       "      <td>187.0</td>\n",
       "      <td>MPN/100 ml</td>\n",
       "    </tr>\n",
       "    <tr>\n",
       "      <th>25532</th>\n",
       "      <td>JB2209190940-1.1</td>\n",
       "      <td>09/19/2022</td>\n",
       "      <td>SCHUYLER HILL CIVIC ASSOCIATION</td>\n",
       "      <td>Left</td>\n",
       "      <td>10.0</td>\n",
       "      <td>MPN/100 ml</td>\n",
       "    </tr>\n",
       "    <tr>\n",
       "      <th>25533</th>\n",
       "      <td>JB2209190940-1.2</td>\n",
       "      <td>09/19/2022</td>\n",
       "      <td>SCHUYLER HILL CIVIC ASSOCIATION</td>\n",
       "      <td>Center</td>\n",
       "      <td>9.9</td>\n",
       "      <td>MPN/100 ml</td>\n",
       "    </tr>\n",
       "    <tr>\n",
       "      <th>25534</th>\n",
       "      <td>JB2209190940-1.3</td>\n",
       "      <td>09/19/2022</td>\n",
       "      <td>SCHUYLER HILL CIVIC ASSOCIATION</td>\n",
       "      <td>Right</td>\n",
       "      <td>10.0</td>\n",
       "      <td>MPN/100 ml</td>\n",
       "    </tr>\n",
       "  </tbody>\n",
       "</table>\n",
       "</div>"
      ],
      "text/plain": [
       "              Sample ID Sample Date                         Beach Name  \\\n",
       "25530  JB2208021005-1.1  08/02/2022    SCHUYLER HILL CIVIC ASSOCIATION   \n",
       "25531  JA2209070700-1.3  09/07/2022  DOUGLASTON HOMEOWNERS ASSOCIATION   \n",
       "25532  JB2209190940-1.1  09/19/2022    SCHUYLER HILL CIVIC ASSOCIATION   \n",
       "25533  JB2209190940-1.2  09/19/2022    SCHUYLER HILL CIVIC ASSOCIATION   \n",
       "25534  JB2209190940-1.3  09/19/2022    SCHUYLER HILL CIVIC ASSOCIATION   \n",
       "\n",
       "      Sample Location  Enterococci Results Units or Notes  \n",
       "25530            Left                 20.0     MPN/100 ml  \n",
       "25531           Right                187.0     MPN/100 ml  \n",
       "25532            Left                 10.0     MPN/100 ml  \n",
       "25533          Center                  9.9     MPN/100 ml  \n",
       "25534           Right                 10.0     MPN/100 ml  "
      ]
     },
     "execution_count": 6,
     "metadata": {},
     "output_type": "execute_result"
    }
   ],
   "source": [
    "# Display tail of dataframe\n",
    "beach_df.tail()"
   ]
  },
  {
   "cell_type": "code",
   "execution_count": 5,
   "id": "a9ca2dbc",
   "metadata": {},
   "outputs": [
    {
     "data": {
      "text/plain": [
       "Sample ID                 0\n",
       "Sample Date               0\n",
       "Beach Name                0\n",
       "Sample Location          37\n",
       "Enterococci Results    7445\n",
       "Units or Notes            0\n",
       "dtype: int64"
      ]
     },
     "execution_count": 5,
     "metadata": {},
     "output_type": "execute_result"
    }
   ],
   "source": [
    "# check for null values\n",
    "beach_df.isnull().sum()"
   ]
  },
  {
   "cell_type": "code",
   "execution_count": 8,
   "id": "a66a6d50",
   "metadata": {},
   "outputs": [
    {
     "data": {
      "text/html": [
       "<div>\n",
       "<style scoped>\n",
       "    .dataframe tbody tr th:only-of-type {\n",
       "        vertical-align: middle;\n",
       "    }\n",
       "\n",
       "    .dataframe tbody tr th {\n",
       "        vertical-align: top;\n",
       "    }\n",
       "\n",
       "    .dataframe thead th {\n",
       "        text-align: right;\n",
       "    }\n",
       "</style>\n",
       "<table border=\"1\" class=\"dataframe\">\n",
       "  <thead>\n",
       "    <tr style=\"text-align: right;\">\n",
       "      <th></th>\n",
       "      <th>Sample ID</th>\n",
       "      <th>Sample Date</th>\n",
       "      <th>Beach Name</th>\n",
       "      <th>Sample Location</th>\n",
       "      <th>Enterococci Results</th>\n",
       "      <th>Units or Notes</th>\n",
       "    </tr>\n",
       "  </thead>\n",
       "  <tbody>\n",
       "    <tr>\n",
       "      <th>0</th>\n",
       "      <td>050514CP13</td>\n",
       "      <td>05/05/2014</td>\n",
       "      <td>MIDLAND BEACH</td>\n",
       "      <td>Center</td>\n",
       "      <td>20.0</td>\n",
       "      <td>MPN/100 ml</td>\n",
       "    </tr>\n",
       "    <tr>\n",
       "      <th>1</th>\n",
       "      <td>062011GR04</td>\n",
       "      <td>06/20/2011</td>\n",
       "      <td>MANHATTAN BEACH</td>\n",
       "      <td>Left</td>\n",
       "      <td>0.0</td>\n",
       "      <td>Result below detection limit</td>\n",
       "    </tr>\n",
       "    <tr>\n",
       "      <th>2</th>\n",
       "      <td>072808BH09</td>\n",
       "      <td>07/28/2008</td>\n",
       "      <td>MIDLAND BEACH</td>\n",
       "      <td>Right</td>\n",
       "      <td>28.0</td>\n",
       "      <td>MPN/100 ml</td>\n",
       "    </tr>\n",
       "    <tr>\n",
       "      <th>3</th>\n",
       "      <td>051214CP36</td>\n",
       "      <td>05/12/2014</td>\n",
       "      <td>SOUTH BEACH</td>\n",
       "      <td>Right</td>\n",
       "      <td>4.0</td>\n",
       "      <td>MPN/100 ml</td>\n",
       "    </tr>\n",
       "    <tr>\n",
       "      <th>4</th>\n",
       "      <td>081511KB07</td>\n",
       "      <td>08/15/2011</td>\n",
       "      <td>CEDAR GROVE</td>\n",
       "      <td>Left</td>\n",
       "      <td>360.0</td>\n",
       "      <td>MPN/100 ml</td>\n",
       "    </tr>\n",
       "  </tbody>\n",
       "</table>\n",
       "</div>"
      ],
      "text/plain": [
       "    Sample ID Sample Date       Beach Name Sample Location  \\\n",
       "0  050514CP13  05/05/2014    MIDLAND BEACH          Center   \n",
       "1  062011GR04  06/20/2011  MANHATTAN BEACH            Left   \n",
       "2  072808BH09  07/28/2008    MIDLAND BEACH           Right   \n",
       "3  051214CP36  05/12/2014      SOUTH BEACH           Right   \n",
       "4  081511KB07  08/15/2011      CEDAR GROVE            Left   \n",
       "\n",
       "   Enterococci Results                Units or Notes  \n",
       "0                 20.0                    MPN/100 ml  \n",
       "1                  0.0  Result below detection limit  \n",
       "2                 28.0                    MPN/100 ml  \n",
       "3                  4.0                    MPN/100 ml  \n",
       "4                360.0                    MPN/100 ml  "
      ]
     },
     "execution_count": 8,
     "metadata": {},
     "output_type": "execute_result"
    }
   ],
   "source": [
    "# replace null values with zero\n",
    "beach_df = beach_df.fillna(0.0)\n",
    "beach_df.head()"
   ]
  },
  {
   "cell_type": "code",
   "execution_count": 14,
   "id": "d90fe08d",
   "metadata": {},
   "outputs": [
    {
     "data": {
      "text/plain": [
       "40"
      ]
     },
     "execution_count": 14,
     "metadata": {},
     "output_type": "execute_result"
    }
   ],
   "source": [
    "# Count the amount of unique beaches\n",
    "beach_df['Beach Name'].nunique()"
   ]
  },
  {
   "cell_type": "code",
   "execution_count": 16,
   "id": "12775db4",
   "metadata": {},
   "outputs": [
    {
     "data": {
      "text/plain": [
       "array(['MIDLAND BEACH', 'MANHATTAN BEACH', 'SOUTH BEACH', 'CEDAR GROVE',\n",
       "       'ORCHARD BEACH', 'GERRITSEN/KIDDIE BEACH',\n",
       "       'SEAGATE BEACH - 38TH STREET', 'DANISH AMERICAN BEACH CLUB',\n",
       "       'MANHEM BEACH CLUB', 'DOUGLASTON HOMEOWNERS ASSOCIATION',\n",
       "       'ROCKAWAY BEACH 15TH - 22TH', \"WOLFE'S POND PARK\",\n",
       "       'CONEY ISLAND WEST 16TH - WEST 27TH',\n",
       "       'ROCKAWAY BEACH 116TH - 126TH',\n",
       "       'WHITESTONE BOOSTER CIVIC  ASSOCIATION',\n",
       "       'KINGSBOROUGH COMMUNITY COLLEGE', 'SI YMCA OF GREATER NEW YORK',\n",
       "       'WHITE CROSS FISHING CLUB', 'CONEY ISLAND WEST 8TH - PIER',\n",
       "       'BREEZY POINT - 219TH STREET', 'BREEZY POINT - REID AVE.',\n",
       "       'MORRIS YACHT AND BEACH CLUB', 'ROCKAWAY BEACH 59TH - 80TH',\n",
       "       'SCHUYLER HILL CIVIC ASSOCIATION',\n",
       "       \"TRINITY DANISH YOUNG PEOPLE'S SOCIETY\",\n",
       "       'WEST FORDHAM STREET ASSOCIATION', 'LOCUST POINT YACHT CLUB',\n",
       "       'SEAGATE BEACH - 42ND STREET', 'ROCKAWAY BEACH 23RD - 59TH',\n",
       "       'AMERICAN TURNERS', 'ROCKAWAY BEACH 126TH - 149TH',\n",
       "       'CONEY ISLAND BR. 6TH - OCEAN PKWY', 'ROCKAWAY BEACH 9TH - 13TH',\n",
       "       'CONEY ISLAND BR. 15TH - 6TH',\n",
       "       'CONEY ISLAND WEST 28TH - WEST 37TH',\n",
       "       'BEECHHURST PROPERTY OWNERS ASSOCIATION',\n",
       "       'ROCKAWAY BEACH 95TH - 116TH',\n",
       "       'CONEY ISLAND OCEAN PKWY - WEST 8TH', 'ROCKAWAY BEACH 80TH - 95TH',\n",
       "       'LOCUST POINT CIVIC ASSOCIATION'], dtype=object)"
      ]
     },
     "execution_count": 16,
     "metadata": {},
     "output_type": "execute_result"
    }
   ],
   "source": [
    "# Display unique beach names\n",
    "beach_df['Beach Name'].unique()"
   ]
  },
  {
   "cell_type": "code",
   "execution_count": 17,
   "id": "d198c6cb",
   "metadata": {},
   "outputs": [
    {
     "data": {
      "text/plain": [
       "Sample ID               object\n",
       "Sample Date             object\n",
       "Beach Name              object\n",
       "Sample Location         object\n",
       "Enterococci Results    float64\n",
       "Units or Notes          object\n",
       "dtype: object"
      ]
     },
     "execution_count": 17,
     "metadata": {},
     "output_type": "execute_result"
    }
   ],
   "source": [
    "# Display data types\n",
    "beach_df.dtypes"
   ]
  },
  {
   "cell_type": "code",
   "execution_count": null,
   "id": "7a8ba910",
   "metadata": {},
   "outputs": [],
   "source": []
  }
 ],
 "metadata": {
  "kernelspec": {
   "display_name": "PythonData",
   "language": "python",
   "name": "pythondata"
  },
  "language_info": {
   "codemirror_mode": {
    "name": "ipython",
    "version": 3
   },
   "file_extension": ".py",
   "mimetype": "text/x-python",
   "name": "python",
   "nbconvert_exporter": "python",
   "pygments_lexer": "ipython3",
   "version": "3.9.12"
  }
 },
 "nbformat": 4,
 "nbformat_minor": 5
}
